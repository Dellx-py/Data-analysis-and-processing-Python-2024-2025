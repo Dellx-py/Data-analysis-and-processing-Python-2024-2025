{
 "cells": [
  {
   "cell_type": "code",
   "execution_count": 37,
   "metadata": {},
   "outputs": [],
   "source": [
    " #este bisect daca\n",
    "#  1. este divizibil cu 400\n",
    "#  2. este divizibil cu 4, dar nu cu 100"
   ]
  },
  {
   "cell_type": "code",
   "execution_count": 38,
   "metadata": {},
   "outputs": [],
   "source": [
    "start_year = 1899\n",
    "stop_year = 2025"
   ]
  },
  {
   "cell_type": "code",
   "execution_count": 39,
   "metadata": {},
   "outputs": [],
   "source": [
    "import numpy as np"
   ]
  },
  {
   "cell_type": "code",
   "execution_count": 40,
   "metadata": {},
   "outputs": [
    {
     "data": {
      "text/plain": [
       "array([1899, 2025])"
      ]
     },
     "execution_count": 40,
     "metadata": {},
     "output_type": "execute_result"
    }
   ],
   "source": [
    "array = np.array([1899, 2025])\n",
    "array"
   ]
  },
  {
   "cell_type": "code",
   "execution_count": 41,
   "metadata": {},
   "outputs": [],
   "source": [
    "array = np.arange(start_year, stop_year)"
   ]
  },
  {
   "cell_type": "code",
   "execution_count": 42,
   "metadata": {},
   "outputs": [
    {
     "data": {
      "text/plain": [
       "array([1904, 1908, 1912, 1916, 1920, 1924, 1928, 1932, 1936, 1940, 1944,\n",
       "       1948, 1952, 1956, 1960, 1964, 1968, 1972, 1976, 1980, 1984, 1988,\n",
       "       1992, 1996, 2004, 2008, 2012, 2016, 2020, 2024])"
      ]
     },
     "execution_count": 42,
     "metadata": {},
     "output_type": "execute_result"
    }
   ],
   "source": [
    "array[(array % 4 == 0) & (array % 100 != 0)]"
   ]
  },
  {
   "cell_type": "code",
   "execution_count": 43,
   "metadata": {},
   "outputs": [
    {
     "data": {
      "text/plain": [
       "array([1904, 1908, 1912, 1916, 1920, 1924, 1928, 1932, 1936, 1940, 1944,\n",
       "       1948, 1952, 1956, 1960, 1964, 1968, 1972, 1976, 1980, 1984, 1988,\n",
       "       1992, 1996, 2000, 2004, 2008, 2012, 2016, 2020, 2024])"
      ]
     },
     "execution_count": 43,
     "metadata": {},
     "output_type": "execute_result"
    }
   ],
   "source": [
    "array[(array % 400 == 0) | (array % 4 == 0) & (array % 100 != 0)]"
   ]
  },
  {
   "cell_type": "code",
   "execution_count": 45,
   "metadata": {},
   "outputs": [
    {
     "data": {
      "text/plain": [
       "array([1904, 1908, 1912, 1916, 1920, 1924, 1928, 1932, 1936, 1940, 1944,\n",
       "       1948, 1952, 1956, 1960, 1964, 1968, 1972, 1976, 1980, 1984, 1988,\n",
       "       1992, 1996, 2000, 2004, 2008, 2012, 2016, 2020, 2024])"
      ]
     },
     "execution_count": 45,
     "metadata": {},
     "output_type": "execute_result"
    }
   ],
   "source": [
    "divizibile_cu_400 = array % 400 == 0\n",
    "divizibile_cu_4 = array % 4 == 0\n",
    "nedivizibile_cu_100 = array % 100 != 0\n",
    "\n",
    "array[divizibile_cu_400 | (divizibile_cu_4 & nedivizibile_cu_100)]"
   ]
  }
 ],
 "metadata": {
  "kernelspec": {
   "display_name": "Python 3",
   "language": "python",
   "name": "python3"
  },
  "language_info": {
   "codemirror_mode": {
    "name": "ipython",
    "version": 3
   },
   "file_extension": ".py",
   "mimetype": "text/x-python",
   "name": "python",
   "nbconvert_exporter": "python",
   "pygments_lexer": "ipython3",
   "version": "3.13.1"
  }
 },
 "nbformat": 4,
 "nbformat_minor": 2
}
